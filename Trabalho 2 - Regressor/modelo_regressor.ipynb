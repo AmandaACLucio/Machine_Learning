{
 "cells": [
  {
   "cell_type": "markdown",
   "metadata": {},
   "source": [
    "# Problema de Regressão"
   ]
  },
  {
   "cell_type": "markdown",
   "metadata": {},
   "source": [
    "## Introdução"
   ]
  },
  {
   "cell_type": "markdown",
   "metadata": {},
   "source": [
    "O problema tem como objetivo desenvolver um modelo de regressão multivariável que estimule o preço de um imóvel a partir de características do imóvel como por exemplo número de quartos, tipo de imóvel, presença de piscina, estacionamento, etc. Essa análise será realizada através dos dados coletados de 4683 imóveis, com os quais preveremos o preço de 2000 outros imóveis."
   ]
  },
  {
   "cell_type": "markdown",
   "metadata": {},
   "source": [
    "## Bibliotecas"
   ]
  },
  {
   "cell_type": "code",
   "execution_count": 1,
   "metadata": {},
   "outputs": [],
   "source": [
    "import pandas as pd\n",
    "import matplotlib.pyplot as plt\n",
    "from pandas.plotting import scatter_matrix\n",
    "import seaborn as sns\n",
    "from sklearn.preprocessing import LabelBinarizer\n",
    "from sklearn.preprocessing import LabelEncoder\n",
    "from sklearn.neighbors import KNeighborsRegressor\n",
    "from sklearn.linear_model import LinearRegression\n",
    "from sklearn.preprocessing import PolynomialFeatures\n",
    "from sklearn.ensemble import RandomForestRegressor\n",
    "from sklearn.metrics import confusion_matrix\n",
    "import numpy as np\n",
    "from sklearn.model_selection import train_test_split\n",
    "from sklearn.preprocessing import StandardScaler\n"
   ]
  },
  {
   "cell_type": "markdown",
   "metadata": {},
   "source": [
    "## Compreensão do dados"
   ]
  },
  {
   "cell_type": "markdown",
   "metadata": {},
   "source": [
    "### Descrição dos Dados"
   ]
  },
  {
   "cell_type": "markdown",
   "metadata": {},
   "source": [
    "- Id - identificação única do imóvel\n",
    "- tipo - tipo de imóvel (apartamento, casa, loft ou quitinete)\n",
    "- bairro - nome do bairro onde o imóvel se localiza\n",
    "- tipo_vendedor - tipo de vendedor (imobiliária ou pessoa física)\n",
    "- quartos - número de quartos\n",
    "- suites - número de suítes\n",
    "- vagas - número de vagas de garagem\n",
    "- area_util - área útil, em metros quadrados\n",
    "- area_extra - área extra, em metros quadrados\n",
    "- diferenciais - descrição textual das duas principais características que diferenciam o imóvel\n",
    "- churrasqueira - o anúncio menciona churrasqueira ( 1 = menciona ; 0 = não menciona )\n",
    "- estacionamento - o anúncio menciona estacionamento para visitantes ( 1 = menciona ; 0 = não menciona )\n",
    "- piscina - o anúncio menciona piscina ( 1 = menciona ; 0 = não menciona )\n",
    "- playground - o anúncio menciona playground ( 1 = menciona ; 0 = não menciona )\n",
    "- quadra - o anúncio menciona quadra esportiva ou campo de futebol ( 1 = menciona ; 0 = não menciona )\n",
    "- s_festas - o anúncio menciona salão de festas ( 1 = menciona ; 0 = não menciona )\n",
    "- s_jogos - o anúncio menciona salão de jogos ( 1 = menciona ; 0 = não menciona )\n",
    "- s_ginastica - o anúncio menciona sala de ginástica ( 1 = menciona ; 0 = não menciona )\n",
    "- sauna - o anúncio menciona sauna ( 1 = menciona ; 0 = não menciona )\n",
    "- vista_mar - o anúncio menciona vista para o mar ( 1 = menciona ; 0 = não menciona )\n",
    "- preco - preço de venda (valor a ser estimado, informado apenas no conjunto de treinamento"
   ]
  },
  {
   "cell_type": "markdown",
   "metadata": {},
   "source": [
    "### Carregamento dos Dados"
   ]
  },
  {
   "cell_type": "code",
   "execution_count": 2,
   "metadata": {},
   "outputs": [],
   "source": [
    "df_train = pd.read_csv(\".\\data\\conjunto_de_treinamento.csv\")\n",
    "\n",
    "# Carregando conjunto de teste\n",
    "df_test = pd.read_csv(\".\\data\\conjunto_de_teste.csv\")"
   ]
  },
  {
   "cell_type": "markdown",
   "metadata": {},
   "source": [
    "#### Visuando cabeçalho do dataframe de treino"
   ]
  },
  {
   "cell_type": "code",
   "execution_count": 3,
   "metadata": {},
   "outputs": [
    {
     "data": {
      "text/html": [
       "<div>\n",
       "<style scoped>\n",
       "    .dataframe tbody tr th:only-of-type {\n",
       "        vertical-align: middle;\n",
       "    }\n",
       "\n",
       "    .dataframe tbody tr th {\n",
       "        vertical-align: top;\n",
       "    }\n",
       "\n",
       "    .dataframe thead th {\n",
       "        text-align: right;\n",
       "    }\n",
       "</style>\n",
       "<table border=\"1\" class=\"dataframe\">\n",
       "  <thead>\n",
       "    <tr style=\"text-align: right;\">\n",
       "      <th></th>\n",
       "      <th>Id</th>\n",
       "      <th>tipo</th>\n",
       "      <th>bairro</th>\n",
       "      <th>tipo_vendedor</th>\n",
       "      <th>quartos</th>\n",
       "      <th>suites</th>\n",
       "      <th>vagas</th>\n",
       "      <th>area_util</th>\n",
       "      <th>area_extra</th>\n",
       "      <th>diferenciais</th>\n",
       "      <th>...</th>\n",
       "      <th>estacionamento</th>\n",
       "      <th>piscina</th>\n",
       "      <th>playground</th>\n",
       "      <th>quadra</th>\n",
       "      <th>s_festas</th>\n",
       "      <th>s_jogos</th>\n",
       "      <th>s_ginastica</th>\n",
       "      <th>sauna</th>\n",
       "      <th>vista_mar</th>\n",
       "      <th>preco</th>\n",
       "    </tr>\n",
       "  </thead>\n",
       "  <tbody>\n",
       "    <tr>\n",
       "      <th>0</th>\n",
       "      <td>2000</td>\n",
       "      <td>Casa</td>\n",
       "      <td>Imbiribeira</td>\n",
       "      <td>Imobiliaria</td>\n",
       "      <td>3</td>\n",
       "      <td>3</td>\n",
       "      <td>5</td>\n",
       "      <td>223</td>\n",
       "      <td>167</td>\n",
       "      <td>piscina e copa</td>\n",
       "      <td>...</td>\n",
       "      <td>0</td>\n",
       "      <td>1</td>\n",
       "      <td>0</td>\n",
       "      <td>0</td>\n",
       "      <td>0</td>\n",
       "      <td>0</td>\n",
       "      <td>0</td>\n",
       "      <td>0</td>\n",
       "      <td>0</td>\n",
       "      <td>1000000.0</td>\n",
       "    </tr>\n",
       "    <tr>\n",
       "      <th>1</th>\n",
       "      <td>2001</td>\n",
       "      <td>Apartamento</td>\n",
       "      <td>Casa Amarela</td>\n",
       "      <td>Imobiliaria</td>\n",
       "      <td>4</td>\n",
       "      <td>4</td>\n",
       "      <td>2</td>\n",
       "      <td>157</td>\n",
       "      <td>0</td>\n",
       "      <td>piscina e churrasqueira</td>\n",
       "      <td>...</td>\n",
       "      <td>0</td>\n",
       "      <td>1</td>\n",
       "      <td>0</td>\n",
       "      <td>0</td>\n",
       "      <td>0</td>\n",
       "      <td>0</td>\n",
       "      <td>0</td>\n",
       "      <td>0</td>\n",
       "      <td>0</td>\n",
       "      <td>680000.0</td>\n",
       "    </tr>\n",
       "    <tr>\n",
       "      <th>2</th>\n",
       "      <td>2002</td>\n",
       "      <td>Apartamento</td>\n",
       "      <td>Encruzilhada</td>\n",
       "      <td>Imobiliaria</td>\n",
       "      <td>3</td>\n",
       "      <td>1</td>\n",
       "      <td>0</td>\n",
       "      <td>53</td>\n",
       "      <td>0</td>\n",
       "      <td>nenhum</td>\n",
       "      <td>...</td>\n",
       "      <td>0</td>\n",
       "      <td>0</td>\n",
       "      <td>0</td>\n",
       "      <td>0</td>\n",
       "      <td>0</td>\n",
       "      <td>0</td>\n",
       "      <td>0</td>\n",
       "      <td>0</td>\n",
       "      <td>0</td>\n",
       "      <td>450000.0</td>\n",
       "    </tr>\n",
       "    <tr>\n",
       "      <th>3</th>\n",
       "      <td>2003</td>\n",
       "      <td>Apartamento</td>\n",
       "      <td>Boa Viagem</td>\n",
       "      <td>Imobiliaria</td>\n",
       "      <td>4</td>\n",
       "      <td>3</td>\n",
       "      <td>2</td>\n",
       "      <td>149</td>\n",
       "      <td>0</td>\n",
       "      <td>piscina e churrasqueira</td>\n",
       "      <td>...</td>\n",
       "      <td>0</td>\n",
       "      <td>1</td>\n",
       "      <td>0</td>\n",
       "      <td>0</td>\n",
       "      <td>0</td>\n",
       "      <td>0</td>\n",
       "      <td>0</td>\n",
       "      <td>0</td>\n",
       "      <td>0</td>\n",
       "      <td>1080000.0</td>\n",
       "    </tr>\n",
       "    <tr>\n",
       "      <th>4</th>\n",
       "      <td>2004</td>\n",
       "      <td>Apartamento</td>\n",
       "      <td>Rosarinho</td>\n",
       "      <td>Imobiliaria</td>\n",
       "      <td>2</td>\n",
       "      <td>1</td>\n",
       "      <td>1</td>\n",
       "      <td>54</td>\n",
       "      <td>0</td>\n",
       "      <td>piscina e churrasqueira</td>\n",
       "      <td>...</td>\n",
       "      <td>0</td>\n",
       "      <td>1</td>\n",
       "      <td>0</td>\n",
       "      <td>0</td>\n",
       "      <td>0</td>\n",
       "      <td>0</td>\n",
       "      <td>0</td>\n",
       "      <td>0</td>\n",
       "      <td>0</td>\n",
       "      <td>350000.0</td>\n",
       "    </tr>\n",
       "  </tbody>\n",
       "</table>\n",
       "<p>5 rows × 21 columns</p>\n",
       "</div>"
      ],
      "text/plain": [
       "     Id         tipo        bairro tipo_vendedor  quartos  suites  vagas  \\\n",
       "0  2000         Casa   Imbiribeira   Imobiliaria        3       3      5   \n",
       "1  2001  Apartamento  Casa Amarela   Imobiliaria        4       4      2   \n",
       "2  2002  Apartamento  Encruzilhada   Imobiliaria        3       1      0   \n",
       "3  2003  Apartamento    Boa Viagem   Imobiliaria        4       3      2   \n",
       "4  2004  Apartamento     Rosarinho   Imobiliaria        2       1      1   \n",
       "\n",
       "   area_util  area_extra             diferenciais  ...  estacionamento  \\\n",
       "0        223         167           piscina e copa  ...               0   \n",
       "1        157           0  piscina e churrasqueira  ...               0   \n",
       "2         53           0                   nenhum  ...               0   \n",
       "3        149           0  piscina e churrasqueira  ...               0   \n",
       "4         54           0  piscina e churrasqueira  ...               0   \n",
       "\n",
       "   piscina  playground  quadra  s_festas  s_jogos  s_ginastica  sauna  \\\n",
       "0        1           0       0         0        0            0      0   \n",
       "1        1           0       0         0        0            0      0   \n",
       "2        0           0       0         0        0            0      0   \n",
       "3        1           0       0         0        0            0      0   \n",
       "4        1           0       0         0        0            0      0   \n",
       "\n",
       "   vista_mar      preco  \n",
       "0          0  1000000.0  \n",
       "1          0   680000.0  \n",
       "2          0   450000.0  \n",
       "3          0  1080000.0  \n",
       "4          0   350000.0  \n",
       "\n",
       "[5 rows x 21 columns]"
      ]
     },
     "execution_count": 3,
     "metadata": {},
     "output_type": "execute_result"
    }
   ],
   "source": [
    "df_train.head()"
   ]
  },
  {
   "cell_type": "markdown",
   "metadata": {},
   "source": [
    "#### Descrição dos dados de treino"
   ]
  },
  {
   "cell_type": "code",
   "execution_count": 4,
   "metadata": {},
   "outputs": [
    {
     "data": {
      "text/html": [
       "<div>\n",
       "<style scoped>\n",
       "    .dataframe tbody tr th:only-of-type {\n",
       "        vertical-align: middle;\n",
       "    }\n",
       "\n",
       "    .dataframe tbody tr th {\n",
       "        vertical-align: top;\n",
       "    }\n",
       "\n",
       "    .dataframe thead th {\n",
       "        text-align: right;\n",
       "    }\n",
       "</style>\n",
       "<table border=\"1\" class=\"dataframe\">\n",
       "  <thead>\n",
       "    <tr style=\"text-align: right;\">\n",
       "      <th></th>\n",
       "      <th>Nome da Feature</th>\n",
       "      <th>Tipo</th>\n",
       "    </tr>\n",
       "  </thead>\n",
       "  <tbody>\n",
       "    <tr>\n",
       "      <th>0</th>\n",
       "      <td>Id</td>\n",
       "      <td>int64</td>\n",
       "    </tr>\n",
       "    <tr>\n",
       "      <th>1</th>\n",
       "      <td>tipo</td>\n",
       "      <td>object</td>\n",
       "    </tr>\n",
       "    <tr>\n",
       "      <th>2</th>\n",
       "      <td>bairro</td>\n",
       "      <td>object</td>\n",
       "    </tr>\n",
       "    <tr>\n",
       "      <th>3</th>\n",
       "      <td>tipo_vendedor</td>\n",
       "      <td>object</td>\n",
       "    </tr>\n",
       "    <tr>\n",
       "      <th>4</th>\n",
       "      <td>quartos</td>\n",
       "      <td>int64</td>\n",
       "    </tr>\n",
       "    <tr>\n",
       "      <th>5</th>\n",
       "      <td>suites</td>\n",
       "      <td>int64</td>\n",
       "    </tr>\n",
       "    <tr>\n",
       "      <th>6</th>\n",
       "      <td>vagas</td>\n",
       "      <td>int64</td>\n",
       "    </tr>\n",
       "    <tr>\n",
       "      <th>7</th>\n",
       "      <td>area_util</td>\n",
       "      <td>int64</td>\n",
       "    </tr>\n",
       "    <tr>\n",
       "      <th>8</th>\n",
       "      <td>area_extra</td>\n",
       "      <td>int64</td>\n",
       "    </tr>\n",
       "    <tr>\n",
       "      <th>9</th>\n",
       "      <td>diferenciais</td>\n",
       "      <td>object</td>\n",
       "    </tr>\n",
       "    <tr>\n",
       "      <th>10</th>\n",
       "      <td>churrasqueira</td>\n",
       "      <td>int64</td>\n",
       "    </tr>\n",
       "    <tr>\n",
       "      <th>11</th>\n",
       "      <td>estacionamento</td>\n",
       "      <td>int64</td>\n",
       "    </tr>\n",
       "    <tr>\n",
       "      <th>12</th>\n",
       "      <td>piscina</td>\n",
       "      <td>int64</td>\n",
       "    </tr>\n",
       "    <tr>\n",
       "      <th>13</th>\n",
       "      <td>playground</td>\n",
       "      <td>int64</td>\n",
       "    </tr>\n",
       "    <tr>\n",
       "      <th>14</th>\n",
       "      <td>quadra</td>\n",
       "      <td>int64</td>\n",
       "    </tr>\n",
       "    <tr>\n",
       "      <th>15</th>\n",
       "      <td>s_festas</td>\n",
       "      <td>int64</td>\n",
       "    </tr>\n",
       "    <tr>\n",
       "      <th>16</th>\n",
       "      <td>s_jogos</td>\n",
       "      <td>int64</td>\n",
       "    </tr>\n",
       "    <tr>\n",
       "      <th>17</th>\n",
       "      <td>s_ginastica</td>\n",
       "      <td>int64</td>\n",
       "    </tr>\n",
       "    <tr>\n",
       "      <th>18</th>\n",
       "      <td>sauna</td>\n",
       "      <td>int64</td>\n",
       "    </tr>\n",
       "    <tr>\n",
       "      <th>19</th>\n",
       "      <td>vista_mar</td>\n",
       "      <td>int64</td>\n",
       "    </tr>\n",
       "    <tr>\n",
       "      <th>20</th>\n",
       "      <td>preco</td>\n",
       "      <td>float64</td>\n",
       "    </tr>\n",
       "  </tbody>\n",
       "</table>\n",
       "</div>"
      ],
      "text/plain": [
       "   Nome da Feature     Tipo\n",
       "0               Id    int64\n",
       "1             tipo   object\n",
       "2           bairro   object\n",
       "3    tipo_vendedor   object\n",
       "4          quartos    int64\n",
       "5           suites    int64\n",
       "6            vagas    int64\n",
       "7        area_util    int64\n",
       "8       area_extra    int64\n",
       "9     diferenciais   object\n",
       "10   churrasqueira    int64\n",
       "11  estacionamento    int64\n",
       "12         piscina    int64\n",
       "13      playground    int64\n",
       "14          quadra    int64\n",
       "15        s_festas    int64\n",
       "16         s_jogos    int64\n",
       "17     s_ginastica    int64\n",
       "18           sauna    int64\n",
       "19       vista_mar    int64\n",
       "20           preco  float64"
      ]
     },
     "execution_count": 4,
     "metadata": {},
     "output_type": "execute_result"
    }
   ],
   "source": [
    "dict_type_features = {'Nome da Feature': df_train.columns, 'Tipo': df_train.dtypes.astype(str).tolist()}\n",
    "\n",
    "info_colunas = pd.DataFrame(dict_type_features).reset_index(drop=True)\n",
    "info_colunas"
   ]
  },
  {
   "cell_type": "markdown",
   "metadata": {},
   "source": [
    "#### Listando variáveis categóricas"
   ]
  },
  {
   "cell_type": "code",
   "execution_count": 5,
   "metadata": {},
   "outputs": [
    {
     "data": {
      "text/plain": [
       "['tipo', 'bairro', 'tipo_vendedor', 'diferenciais']"
      ]
     },
     "execution_count": 5,
     "metadata": {},
     "output_type": "execute_result"
    }
   ],
   "source": [
    "# Inicializar listas vazias para cada tipo diferente\n",
    "tipos_diferentes = set(dict_type_features[\"Tipo\"])\n",
    "listas_por_tipo = {tipo: [] for tipo in tipos_diferentes}\n",
    "\n",
    "# Organizar os dados nas listas apropriadas\n",
    "for nome, tipo in zip(dict_type_features[\"Nome da Feature\"], dict_type_features[\"Tipo\"]):\n",
    "    listas_por_tipo[tipo].append(nome)\n",
    "\n",
    "listas_por_tipo['object']"
   ]
  },
  {
   "cell_type": "markdown",
   "metadata": {},
   "source": [
    "#### Descrevendo variáveis numéricas"
   ]
  },
  {
   "cell_type": "code",
   "execution_count": 6,
   "metadata": {},
   "outputs": [
    {
     "data": {
      "text/html": [
       "<div>\n",
       "<style scoped>\n",
       "    .dataframe tbody tr th:only-of-type {\n",
       "        vertical-align: middle;\n",
       "    }\n",
       "\n",
       "    .dataframe tbody tr th {\n",
       "        vertical-align: top;\n",
       "    }\n",
       "\n",
       "    .dataframe thead th {\n",
       "        text-align: right;\n",
       "    }\n",
       "</style>\n",
       "<table border=\"1\" class=\"dataframe\">\n",
       "  <thead>\n",
       "    <tr style=\"text-align: right;\">\n",
       "      <th></th>\n",
       "      <th>Id</th>\n",
       "      <th>quartos</th>\n",
       "      <th>suites</th>\n",
       "      <th>vagas</th>\n",
       "      <th>area_util</th>\n",
       "      <th>area_extra</th>\n",
       "      <th>churrasqueira</th>\n",
       "      <th>estacionamento</th>\n",
       "      <th>piscina</th>\n",
       "      <th>playground</th>\n",
       "      <th>quadra</th>\n",
       "      <th>s_festas</th>\n",
       "      <th>s_jogos</th>\n",
       "      <th>s_ginastica</th>\n",
       "      <th>sauna</th>\n",
       "      <th>vista_mar</th>\n",
       "      <th>preco</th>\n",
       "    </tr>\n",
       "  </thead>\n",
       "  <tbody>\n",
       "    <tr>\n",
       "      <th>count</th>\n",
       "      <td>4683.000000</td>\n",
       "      <td>4683.000000</td>\n",
       "      <td>4683.000000</td>\n",
       "      <td>4683.000000</td>\n",
       "      <td>4683.000000</td>\n",
       "      <td>4683.000000</td>\n",
       "      <td>4683.000000</td>\n",
       "      <td>4683.000000</td>\n",
       "      <td>4683.000000</td>\n",
       "      <td>4683.000000</td>\n",
       "      <td>4683.000000</td>\n",
       "      <td>4683.000000</td>\n",
       "      <td>4683.000000</td>\n",
       "      <td>4683.000000</td>\n",
       "      <td>4683.000000</td>\n",
       "      <td>4683.000000</td>\n",
       "      <td>4.683000e+03</td>\n",
       "    </tr>\n",
       "    <tr>\n",
       "      <th>mean</th>\n",
       "      <td>4341.000000</td>\n",
       "      <td>3.043562</td>\n",
       "      <td>1.434337</td>\n",
       "      <td>1.708093</td>\n",
       "      <td>124.158018</td>\n",
       "      <td>13.293188</td>\n",
       "      <td>0.316891</td>\n",
       "      <td>0.030750</td>\n",
       "      <td>0.555627</td>\n",
       "      <td>0.157378</td>\n",
       "      <td>0.039078</td>\n",
       "      <td>0.138159</td>\n",
       "      <td>0.006833</td>\n",
       "      <td>0.013666</td>\n",
       "      <td>0.096306</td>\n",
       "      <td>0.027333</td>\n",
       "      <td>9.277053e+05</td>\n",
       "    </tr>\n",
       "    <tr>\n",
       "      <th>std</th>\n",
       "      <td>1352.009985</td>\n",
       "      <td>0.873590</td>\n",
       "      <td>1.102457</td>\n",
       "      <td>1.210975</td>\n",
       "      <td>107.365110</td>\n",
       "      <td>266.803756</td>\n",
       "      <td>0.465314</td>\n",
       "      <td>0.172657</td>\n",
       "      <td>0.496949</td>\n",
       "      <td>0.364195</td>\n",
       "      <td>0.193800</td>\n",
       "      <td>0.345104</td>\n",
       "      <td>0.082389</td>\n",
       "      <td>0.116114</td>\n",
       "      <td>0.295042</td>\n",
       "      <td>0.163069</td>\n",
       "      <td>1.050607e+07</td>\n",
       "    </tr>\n",
       "    <tr>\n",
       "      <th>min</th>\n",
       "      <td>2000.000000</td>\n",
       "      <td>1.000000</td>\n",
       "      <td>0.000000</td>\n",
       "      <td>0.000000</td>\n",
       "      <td>21.000000</td>\n",
       "      <td>0.000000</td>\n",
       "      <td>0.000000</td>\n",
       "      <td>0.000000</td>\n",
       "      <td>0.000000</td>\n",
       "      <td>0.000000</td>\n",
       "      <td>0.000000</td>\n",
       "      <td>0.000000</td>\n",
       "      <td>0.000000</td>\n",
       "      <td>0.000000</td>\n",
       "      <td>0.000000</td>\n",
       "      <td>0.000000</td>\n",
       "      <td>7.500000e+02</td>\n",
       "    </tr>\n",
       "    <tr>\n",
       "      <th>25%</th>\n",
       "      <td>3170.500000</td>\n",
       "      <td>3.000000</td>\n",
       "      <td>1.000000</td>\n",
       "      <td>1.000000</td>\n",
       "      <td>68.000000</td>\n",
       "      <td>0.000000</td>\n",
       "      <td>0.000000</td>\n",
       "      <td>0.000000</td>\n",
       "      <td>0.000000</td>\n",
       "      <td>0.000000</td>\n",
       "      <td>0.000000</td>\n",
       "      <td>0.000000</td>\n",
       "      <td>0.000000</td>\n",
       "      <td>0.000000</td>\n",
       "      <td>0.000000</td>\n",
       "      <td>0.000000</td>\n",
       "      <td>3.550000e+05</td>\n",
       "    </tr>\n",
       "    <tr>\n",
       "      <th>50%</th>\n",
       "      <td>4341.000000</td>\n",
       "      <td>3.000000</td>\n",
       "      <td>1.000000</td>\n",
       "      <td>2.000000</td>\n",
       "      <td>96.000000</td>\n",
       "      <td>0.000000</td>\n",
       "      <td>0.000000</td>\n",
       "      <td>0.000000</td>\n",
       "      <td>1.000000</td>\n",
       "      <td>0.000000</td>\n",
       "      <td>0.000000</td>\n",
       "      <td>0.000000</td>\n",
       "      <td>0.000000</td>\n",
       "      <td>0.000000</td>\n",
       "      <td>0.000000</td>\n",
       "      <td>0.000000</td>\n",
       "      <td>5.150000e+05</td>\n",
       "    </tr>\n",
       "    <tr>\n",
       "      <th>75%</th>\n",
       "      <td>5511.500000</td>\n",
       "      <td>4.000000</td>\n",
       "      <td>2.000000</td>\n",
       "      <td>2.000000</td>\n",
       "      <td>149.000000</td>\n",
       "      <td>0.000000</td>\n",
       "      <td>1.000000</td>\n",
       "      <td>0.000000</td>\n",
       "      <td>1.000000</td>\n",
       "      <td>0.000000</td>\n",
       "      <td>0.000000</td>\n",
       "      <td>0.000000</td>\n",
       "      <td>0.000000</td>\n",
       "      <td>0.000000</td>\n",
       "      <td>0.000000</td>\n",
       "      <td>0.000000</td>\n",
       "      <td>8.300000e+05</td>\n",
       "    </tr>\n",
       "    <tr>\n",
       "      <th>max</th>\n",
       "      <td>6682.000000</td>\n",
       "      <td>9.000000</td>\n",
       "      <td>6.000000</td>\n",
       "      <td>30.000000</td>\n",
       "      <td>2045.000000</td>\n",
       "      <td>17450.000000</td>\n",
       "      <td>1.000000</td>\n",
       "      <td>1.000000</td>\n",
       "      <td>1.000000</td>\n",
       "      <td>1.000000</td>\n",
       "      <td>1.000000</td>\n",
       "      <td>1.000000</td>\n",
       "      <td>1.000000</td>\n",
       "      <td>1.000000</td>\n",
       "      <td>1.000000</td>\n",
       "      <td>1.000000</td>\n",
       "      <td>6.300000e+08</td>\n",
       "    </tr>\n",
       "  </tbody>\n",
       "</table>\n",
       "</div>"
      ],
      "text/plain": [
       "                Id      quartos       suites        vagas    area_util  \\\n",
       "count  4683.000000  4683.000000  4683.000000  4683.000000  4683.000000   \n",
       "mean   4341.000000     3.043562     1.434337     1.708093   124.158018   \n",
       "std    1352.009985     0.873590     1.102457     1.210975   107.365110   \n",
       "min    2000.000000     1.000000     0.000000     0.000000    21.000000   \n",
       "25%    3170.500000     3.000000     1.000000     1.000000    68.000000   \n",
       "50%    4341.000000     3.000000     1.000000     2.000000    96.000000   \n",
       "75%    5511.500000     4.000000     2.000000     2.000000   149.000000   \n",
       "max    6682.000000     9.000000     6.000000    30.000000  2045.000000   \n",
       "\n",
       "         area_extra  churrasqueira  estacionamento      piscina   playground  \\\n",
       "count   4683.000000    4683.000000     4683.000000  4683.000000  4683.000000   \n",
       "mean      13.293188       0.316891        0.030750     0.555627     0.157378   \n",
       "std      266.803756       0.465314        0.172657     0.496949     0.364195   \n",
       "min        0.000000       0.000000        0.000000     0.000000     0.000000   \n",
       "25%        0.000000       0.000000        0.000000     0.000000     0.000000   \n",
       "50%        0.000000       0.000000        0.000000     1.000000     0.000000   \n",
       "75%        0.000000       1.000000        0.000000     1.000000     0.000000   \n",
       "max    17450.000000       1.000000        1.000000     1.000000     1.000000   \n",
       "\n",
       "            quadra     s_festas      s_jogos  s_ginastica        sauna  \\\n",
       "count  4683.000000  4683.000000  4683.000000  4683.000000  4683.000000   \n",
       "mean      0.039078     0.138159     0.006833     0.013666     0.096306   \n",
       "std       0.193800     0.345104     0.082389     0.116114     0.295042   \n",
       "min       0.000000     0.000000     0.000000     0.000000     0.000000   \n",
       "25%       0.000000     0.000000     0.000000     0.000000     0.000000   \n",
       "50%       0.000000     0.000000     0.000000     0.000000     0.000000   \n",
       "75%       0.000000     0.000000     0.000000     0.000000     0.000000   \n",
       "max       1.000000     1.000000     1.000000     1.000000     1.000000   \n",
       "\n",
       "         vista_mar         preco  \n",
       "count  4683.000000  4.683000e+03  \n",
       "mean      0.027333  9.277053e+05  \n",
       "std       0.163069  1.050607e+07  \n",
       "min       0.000000  7.500000e+02  \n",
       "25%       0.000000  3.550000e+05  \n",
       "50%       0.000000  5.150000e+05  \n",
       "75%       0.000000  8.300000e+05  \n",
       "max       1.000000  6.300000e+08  "
      ]
     },
     "execution_count": 6,
     "metadata": {},
     "output_type": "execute_result"
    }
   ],
   "source": [
    "df_train_features_numericals = df_train[listas_por_tipo['float64']] + df_train[listas_por_tipo['int64']]\n",
    "df_train.describe()"
   ]
  },
  {
   "cell_type": "markdown",
   "metadata": {},
   "source": [
    "### Tratamento de Dados Faltantes"
   ]
  },
  {
   "cell_type": "markdown",
   "metadata": {},
   "source": [
    "- Verificando quantidade de dados faltantes"
   ]
  },
  {
   "cell_type": "code",
   "execution_count": 7,
   "metadata": {},
   "outputs": [
    {
     "data": {
      "text/html": [
       "<div>\n",
       "<style scoped>\n",
       "    .dataframe tbody tr th:only-of-type {\n",
       "        vertical-align: middle;\n",
       "    }\n",
       "\n",
       "    .dataframe tbody tr th {\n",
       "        vertical-align: top;\n",
       "    }\n",
       "\n",
       "    .dataframe thead th {\n",
       "        text-align: right;\n",
       "    }\n",
       "</style>\n",
       "<table border=\"1\" class=\"dataframe\">\n",
       "  <thead>\n",
       "    <tr style=\"text-align: right;\">\n",
       "      <th></th>\n",
       "      <th>Id</th>\n",
       "      <th>tipo</th>\n",
       "      <th>bairro</th>\n",
       "      <th>tipo_vendedor</th>\n",
       "      <th>quartos</th>\n",
       "      <th>suites</th>\n",
       "      <th>vagas</th>\n",
       "      <th>area_util</th>\n",
       "      <th>area_extra</th>\n",
       "      <th>diferenciais</th>\n",
       "      <th>...</th>\n",
       "      <th>estacionamento</th>\n",
       "      <th>piscina</th>\n",
       "      <th>playground</th>\n",
       "      <th>quadra</th>\n",
       "      <th>s_festas</th>\n",
       "      <th>s_jogos</th>\n",
       "      <th>s_ginastica</th>\n",
       "      <th>sauna</th>\n",
       "      <th>vista_mar</th>\n",
       "      <th>preco</th>\n",
       "    </tr>\n",
       "  </thead>\n",
       "  <tbody>\n",
       "    <tr>\n",
       "      <th>0</th>\n",
       "      <td>2000</td>\n",
       "      <td>Casa</td>\n",
       "      <td>Imbiribeira</td>\n",
       "      <td>Imobiliaria</td>\n",
       "      <td>3</td>\n",
       "      <td>3</td>\n",
       "      <td>5</td>\n",
       "      <td>223</td>\n",
       "      <td>167</td>\n",
       "      <td>piscina e copa</td>\n",
       "      <td>...</td>\n",
       "      <td>0</td>\n",
       "      <td>1</td>\n",
       "      <td>0</td>\n",
       "      <td>0</td>\n",
       "      <td>0</td>\n",
       "      <td>0</td>\n",
       "      <td>0</td>\n",
       "      <td>0</td>\n",
       "      <td>0</td>\n",
       "      <td>1000000.0</td>\n",
       "    </tr>\n",
       "    <tr>\n",
       "      <th>1</th>\n",
       "      <td>2001</td>\n",
       "      <td>Apartamento</td>\n",
       "      <td>Casa Amarela</td>\n",
       "      <td>Imobiliaria</td>\n",
       "      <td>4</td>\n",
       "      <td>4</td>\n",
       "      <td>2</td>\n",
       "      <td>157</td>\n",
       "      <td>0</td>\n",
       "      <td>piscina e churrasqueira</td>\n",
       "      <td>...</td>\n",
       "      <td>0</td>\n",
       "      <td>1</td>\n",
       "      <td>0</td>\n",
       "      <td>0</td>\n",
       "      <td>0</td>\n",
       "      <td>0</td>\n",
       "      <td>0</td>\n",
       "      <td>0</td>\n",
       "      <td>0</td>\n",
       "      <td>680000.0</td>\n",
       "    </tr>\n",
       "    <tr>\n",
       "      <th>2</th>\n",
       "      <td>2002</td>\n",
       "      <td>Apartamento</td>\n",
       "      <td>Encruzilhada</td>\n",
       "      <td>Imobiliaria</td>\n",
       "      <td>3</td>\n",
       "      <td>1</td>\n",
       "      <td>0</td>\n",
       "      <td>53</td>\n",
       "      <td>0</td>\n",
       "      <td>nenhum</td>\n",
       "      <td>...</td>\n",
       "      <td>0</td>\n",
       "      <td>0</td>\n",
       "      <td>0</td>\n",
       "      <td>0</td>\n",
       "      <td>0</td>\n",
       "      <td>0</td>\n",
       "      <td>0</td>\n",
       "      <td>0</td>\n",
       "      <td>0</td>\n",
       "      <td>450000.0</td>\n",
       "    </tr>\n",
       "    <tr>\n",
       "      <th>3</th>\n",
       "      <td>2003</td>\n",
       "      <td>Apartamento</td>\n",
       "      <td>Boa Viagem</td>\n",
       "      <td>Imobiliaria</td>\n",
       "      <td>4</td>\n",
       "      <td>3</td>\n",
       "      <td>2</td>\n",
       "      <td>149</td>\n",
       "      <td>0</td>\n",
       "      <td>piscina e churrasqueira</td>\n",
       "      <td>...</td>\n",
       "      <td>0</td>\n",
       "      <td>1</td>\n",
       "      <td>0</td>\n",
       "      <td>0</td>\n",
       "      <td>0</td>\n",
       "      <td>0</td>\n",
       "      <td>0</td>\n",
       "      <td>0</td>\n",
       "      <td>0</td>\n",
       "      <td>1080000.0</td>\n",
       "    </tr>\n",
       "    <tr>\n",
       "      <th>4</th>\n",
       "      <td>2004</td>\n",
       "      <td>Apartamento</td>\n",
       "      <td>Rosarinho</td>\n",
       "      <td>Imobiliaria</td>\n",
       "      <td>2</td>\n",
       "      <td>1</td>\n",
       "      <td>1</td>\n",
       "      <td>54</td>\n",
       "      <td>0</td>\n",
       "      <td>piscina e churrasqueira</td>\n",
       "      <td>...</td>\n",
       "      <td>0</td>\n",
       "      <td>1</td>\n",
       "      <td>0</td>\n",
       "      <td>0</td>\n",
       "      <td>0</td>\n",
       "      <td>0</td>\n",
       "      <td>0</td>\n",
       "      <td>0</td>\n",
       "      <td>0</td>\n",
       "      <td>350000.0</td>\n",
       "    </tr>\n",
       "    <tr>\n",
       "      <th>...</th>\n",
       "      <td>...</td>\n",
       "      <td>...</td>\n",
       "      <td>...</td>\n",
       "      <td>...</td>\n",
       "      <td>...</td>\n",
       "      <td>...</td>\n",
       "      <td>...</td>\n",
       "      <td>...</td>\n",
       "      <td>...</td>\n",
       "      <td>...</td>\n",
       "      <td>...</td>\n",
       "      <td>...</td>\n",
       "      <td>...</td>\n",
       "      <td>...</td>\n",
       "      <td>...</td>\n",
       "      <td>...</td>\n",
       "      <td>...</td>\n",
       "      <td>...</td>\n",
       "      <td>...</td>\n",
       "      <td>...</td>\n",
       "      <td>...</td>\n",
       "    </tr>\n",
       "    <tr>\n",
       "      <th>4678</th>\n",
       "      <td>6678</td>\n",
       "      <td>Apartamento</td>\n",
       "      <td>Boa Viagem</td>\n",
       "      <td>Imobiliaria</td>\n",
       "      <td>4</td>\n",
       "      <td>4</td>\n",
       "      <td>3</td>\n",
       "      <td>170</td>\n",
       "      <td>0</td>\n",
       "      <td>piscina e churrasqueira</td>\n",
       "      <td>...</td>\n",
       "      <td>0</td>\n",
       "      <td>1</td>\n",
       "      <td>0</td>\n",
       "      <td>0</td>\n",
       "      <td>0</td>\n",
       "      <td>0</td>\n",
       "      <td>0</td>\n",
       "      <td>0</td>\n",
       "      <td>0</td>\n",
       "      <td>1200000.0</td>\n",
       "    </tr>\n",
       "    <tr>\n",
       "      <th>4679</th>\n",
       "      <td>6679</td>\n",
       "      <td>Apartamento</td>\n",
       "      <td>Setubal</td>\n",
       "      <td>Imobiliaria</td>\n",
       "      <td>2</td>\n",
       "      <td>0</td>\n",
       "      <td>1</td>\n",
       "      <td>82</td>\n",
       "      <td>0</td>\n",
       "      <td>churrasqueira</td>\n",
       "      <td>...</td>\n",
       "      <td>0</td>\n",
       "      <td>0</td>\n",
       "      <td>0</td>\n",
       "      <td>0</td>\n",
       "      <td>0</td>\n",
       "      <td>0</td>\n",
       "      <td>0</td>\n",
       "      <td>0</td>\n",
       "      <td>0</td>\n",
       "      <td>258000.0</td>\n",
       "    </tr>\n",
       "    <tr>\n",
       "      <th>4680</th>\n",
       "      <td>6680</td>\n",
       "      <td>Apartamento</td>\n",
       "      <td>Torre</td>\n",
       "      <td>Imobiliaria</td>\n",
       "      <td>3</td>\n",
       "      <td>1</td>\n",
       "      <td>1</td>\n",
       "      <td>75</td>\n",
       "      <td>0</td>\n",
       "      <td>nenhum</td>\n",
       "      <td>...</td>\n",
       "      <td>0</td>\n",
       "      <td>0</td>\n",
       "      <td>0</td>\n",
       "      <td>0</td>\n",
       "      <td>0</td>\n",
       "      <td>0</td>\n",
       "      <td>0</td>\n",
       "      <td>0</td>\n",
       "      <td>0</td>\n",
       "      <td>252000.0</td>\n",
       "    </tr>\n",
       "    <tr>\n",
       "      <th>4681</th>\n",
       "      <td>6681</td>\n",
       "      <td>Apartamento</td>\n",
       "      <td>Casa Amarela</td>\n",
       "      <td>Imobiliaria</td>\n",
       "      <td>3</td>\n",
       "      <td>2</td>\n",
       "      <td>3</td>\n",
       "      <td>136</td>\n",
       "      <td>0</td>\n",
       "      <td>piscina e copa</td>\n",
       "      <td>...</td>\n",
       "      <td>0</td>\n",
       "      <td>1</td>\n",
       "      <td>0</td>\n",
       "      <td>0</td>\n",
       "      <td>0</td>\n",
       "      <td>0</td>\n",
       "      <td>0</td>\n",
       "      <td>0</td>\n",
       "      <td>0</td>\n",
       "      <td>780000.0</td>\n",
       "    </tr>\n",
       "    <tr>\n",
       "      <th>4682</th>\n",
       "      <td>6682</td>\n",
       "      <td>Apartamento</td>\n",
       "      <td>Madalena</td>\n",
       "      <td>Imobiliaria</td>\n",
       "      <td>3</td>\n",
       "      <td>1</td>\n",
       "      <td>2</td>\n",
       "      <td>84</td>\n",
       "      <td>0</td>\n",
       "      <td>piscina e playground</td>\n",
       "      <td>...</td>\n",
       "      <td>0</td>\n",
       "      <td>1</td>\n",
       "      <td>1</td>\n",
       "      <td>0</td>\n",
       "      <td>0</td>\n",
       "      <td>0</td>\n",
       "      <td>0</td>\n",
       "      <td>0</td>\n",
       "      <td>0</td>\n",
       "      <td>577035.0</td>\n",
       "    </tr>\n",
       "  </tbody>\n",
       "</table>\n",
       "<p>4683 rows × 21 columns</p>\n",
       "</div>"
      ],
      "text/plain": [
       "        Id         tipo        bairro tipo_vendedor  quartos  suites  vagas  \\\n",
       "0     2000         Casa   Imbiribeira   Imobiliaria        3       3      5   \n",
       "1     2001  Apartamento  Casa Amarela   Imobiliaria        4       4      2   \n",
       "2     2002  Apartamento  Encruzilhada   Imobiliaria        3       1      0   \n",
       "3     2003  Apartamento    Boa Viagem   Imobiliaria        4       3      2   \n",
       "4     2004  Apartamento     Rosarinho   Imobiliaria        2       1      1   \n",
       "...    ...          ...           ...           ...      ...     ...    ...   \n",
       "4678  6678  Apartamento    Boa Viagem   Imobiliaria        4       4      3   \n",
       "4679  6679  Apartamento       Setubal   Imobiliaria        2       0      1   \n",
       "4680  6680  Apartamento         Torre   Imobiliaria        3       1      1   \n",
       "4681  6681  Apartamento  Casa Amarela   Imobiliaria        3       2      3   \n",
       "4682  6682  Apartamento      Madalena   Imobiliaria        3       1      2   \n",
       "\n",
       "      area_util  area_extra             diferenciais  ...  estacionamento  \\\n",
       "0           223         167           piscina e copa  ...               0   \n",
       "1           157           0  piscina e churrasqueira  ...               0   \n",
       "2            53           0                   nenhum  ...               0   \n",
       "3           149           0  piscina e churrasqueira  ...               0   \n",
       "4            54           0  piscina e churrasqueira  ...               0   \n",
       "...         ...         ...                      ...  ...             ...   \n",
       "4678        170           0  piscina e churrasqueira  ...               0   \n",
       "4679         82           0            churrasqueira  ...               0   \n",
       "4680         75           0                   nenhum  ...               0   \n",
       "4681        136           0           piscina e copa  ...               0   \n",
       "4682         84           0     piscina e playground  ...               0   \n",
       "\n",
       "      piscina  playground  quadra  s_festas  s_jogos  s_ginastica  sauna  \\\n",
       "0           1           0       0         0        0            0      0   \n",
       "1           1           0       0         0        0            0      0   \n",
       "2           0           0       0         0        0            0      0   \n",
       "3           1           0       0         0        0            0      0   \n",
       "4           1           0       0         0        0            0      0   \n",
       "...       ...         ...     ...       ...      ...          ...    ...   \n",
       "4678        1           0       0         0        0            0      0   \n",
       "4679        0           0       0         0        0            0      0   \n",
       "4680        0           0       0         0        0            0      0   \n",
       "4681        1           0       0         0        0            0      0   \n",
       "4682        1           1       0         0        0            0      0   \n",
       "\n",
       "      vista_mar      preco  \n",
       "0             0  1000000.0  \n",
       "1             0   680000.0  \n",
       "2             0   450000.0  \n",
       "3             0  1080000.0  \n",
       "4             0   350000.0  \n",
       "...         ...        ...  \n",
       "4678          0  1200000.0  \n",
       "4679          0   258000.0  \n",
       "4680          0   252000.0  \n",
       "4681          0   780000.0  \n",
       "4682          0   577035.0  \n",
       "\n",
       "[4683 rows x 21 columns]"
      ]
     },
     "execution_count": 7,
     "metadata": {},
     "output_type": "execute_result"
    }
   ],
   "source": [
    "# Substitua todos os campos vazios por NaN\n",
    "df_train.replace('', np.nan, inplace=True)\n",
    "df_train.replace(' ', np.nan, inplace=True)\n",
    "df_train"
   ]
  },
  {
   "cell_type": "code",
   "execution_count": 8,
   "metadata": {},
   "outputs": [
    {
     "data": {
      "text/html": [
       "<div>\n",
       "<style scoped>\n",
       "    .dataframe tbody tr th:only-of-type {\n",
       "        vertical-align: middle;\n",
       "    }\n",
       "\n",
       "    .dataframe tbody tr th {\n",
       "        vertical-align: top;\n",
       "    }\n",
       "\n",
       "    .dataframe thead th {\n",
       "        text-align: right;\n",
       "    }\n",
       "</style>\n",
       "<table border=\"1\" class=\"dataframe\">\n",
       "  <thead>\n",
       "    <tr style=\"text-align: right;\">\n",
       "      <th></th>\n",
       "      <th>Feature</th>\n",
       "      <th>Dados Faltantes</th>\n",
       "    </tr>\n",
       "  </thead>\n",
       "  <tbody>\n",
       "    <tr>\n",
       "      <th>0</th>\n",
       "      <td>Id</td>\n",
       "      <td>0</td>\n",
       "    </tr>\n",
       "    <tr>\n",
       "      <th>1</th>\n",
       "      <td>tipo</td>\n",
       "      <td>0</td>\n",
       "    </tr>\n",
       "    <tr>\n",
       "      <th>2</th>\n",
       "      <td>bairro</td>\n",
       "      <td>0</td>\n",
       "    </tr>\n",
       "    <tr>\n",
       "      <th>3</th>\n",
       "      <td>tipo_vendedor</td>\n",
       "      <td>0</td>\n",
       "    </tr>\n",
       "    <tr>\n",
       "      <th>4</th>\n",
       "      <td>quartos</td>\n",
       "      <td>0</td>\n",
       "    </tr>\n",
       "    <tr>\n",
       "      <th>5</th>\n",
       "      <td>suites</td>\n",
       "      <td>0</td>\n",
       "    </tr>\n",
       "    <tr>\n",
       "      <th>6</th>\n",
       "      <td>vagas</td>\n",
       "      <td>0</td>\n",
       "    </tr>\n",
       "    <tr>\n",
       "      <th>7</th>\n",
       "      <td>area_util</td>\n",
       "      <td>0</td>\n",
       "    </tr>\n",
       "    <tr>\n",
       "      <th>8</th>\n",
       "      <td>area_extra</td>\n",
       "      <td>0</td>\n",
       "    </tr>\n",
       "    <tr>\n",
       "      <th>9</th>\n",
       "      <td>diferenciais</td>\n",
       "      <td>0</td>\n",
       "    </tr>\n",
       "    <tr>\n",
       "      <th>10</th>\n",
       "      <td>churrasqueira</td>\n",
       "      <td>0</td>\n",
       "    </tr>\n",
       "    <tr>\n",
       "      <th>11</th>\n",
       "      <td>estacionamento</td>\n",
       "      <td>0</td>\n",
       "    </tr>\n",
       "    <tr>\n",
       "      <th>12</th>\n",
       "      <td>piscina</td>\n",
       "      <td>0</td>\n",
       "    </tr>\n",
       "    <tr>\n",
       "      <th>13</th>\n",
       "      <td>playground</td>\n",
       "      <td>0</td>\n",
       "    </tr>\n",
       "    <tr>\n",
       "      <th>14</th>\n",
       "      <td>quadra</td>\n",
       "      <td>0</td>\n",
       "    </tr>\n",
       "    <tr>\n",
       "      <th>15</th>\n",
       "      <td>s_festas</td>\n",
       "      <td>0</td>\n",
       "    </tr>\n",
       "    <tr>\n",
       "      <th>16</th>\n",
       "      <td>s_jogos</td>\n",
       "      <td>0</td>\n",
       "    </tr>\n",
       "    <tr>\n",
       "      <th>17</th>\n",
       "      <td>s_ginastica</td>\n",
       "      <td>0</td>\n",
       "    </tr>\n",
       "    <tr>\n",
       "      <th>18</th>\n",
       "      <td>sauna</td>\n",
       "      <td>0</td>\n",
       "    </tr>\n",
       "    <tr>\n",
       "      <th>19</th>\n",
       "      <td>vista_mar</td>\n",
       "      <td>0</td>\n",
       "    </tr>\n",
       "    <tr>\n",
       "      <th>20</th>\n",
       "      <td>preco</td>\n",
       "      <td>0</td>\n",
       "    </tr>\n",
       "  </tbody>\n",
       "</table>\n",
       "</div>"
      ],
      "text/plain": [
       "           Feature  Dados Faltantes\n",
       "0               Id                0\n",
       "1             tipo                0\n",
       "2           bairro                0\n",
       "3    tipo_vendedor                0\n",
       "4          quartos                0\n",
       "5           suites                0\n",
       "6            vagas                0\n",
       "7        area_util                0\n",
       "8       area_extra                0\n",
       "9     diferenciais                0\n",
       "10   churrasqueira                0\n",
       "11  estacionamento                0\n",
       "12         piscina                0\n",
       "13      playground                0\n",
       "14          quadra                0\n",
       "15        s_festas                0\n",
       "16         s_jogos                0\n",
       "17     s_ginastica                0\n",
       "18           sauna                0\n",
       "19       vista_mar                0\n",
       "20           preco                0"
      ]
     },
     "execution_count": 8,
     "metadata": {},
     "output_type": "execute_result"
    }
   ],
   "source": [
    "tabela_dados_faltantes = df_train.isnull().sum().reset_index()\n",
    "tabela_dados_faltantes.columns = ['Feature', 'Dados Faltantes']\n",
    "tabela_dados_faltantes"
   ]
  },
  {
   "cell_type": "markdown",
   "metadata": {},
   "source": [
    "##### Não há dados faltantes"
   ]
  },
  {
   "cell_type": "markdown",
   "metadata": {},
   "source": [
    "### Análise Exploratória de Dados"
   ]
  },
  {
   "cell_type": "markdown",
   "metadata": {},
   "source": [
    "#### Colunas do dataframe"
   ]
  },
  {
   "cell_type": "code",
   "execution_count": 9,
   "metadata": {},
   "outputs": [
    {
     "data": {
      "text/plain": [
       "Index(['Id', 'tipo', 'bairro', 'tipo_vendedor', 'quartos', 'suites', 'vagas',\n",
       "       'area_util', 'area_extra', 'diferenciais', 'churrasqueira',\n",
       "       'estacionamento', 'piscina', 'playground', 'quadra', 's_festas',\n",
       "       's_jogos', 's_ginastica', 'sauna', 'vista_mar', 'preco'],\n",
       "      dtype='object')"
      ]
     },
     "execution_count": 9,
     "metadata": {},
     "output_type": "execute_result"
    }
   ],
   "source": [
    "df_train.columns"
   ]
  },
  {
   "cell_type": "markdown",
   "metadata": {},
   "source": [
    "#### Histograma"
   ]
  },
  {
   "cell_type": "code",
   "execution_count": 10,
   "metadata": {},
   "outputs": [
    {
     "data": {
      "image/png": "[encoded data removed]",
      "text/plain": [
       "<Figure size 576x4536 with 21 Axes>"
      ]
     },
     "metadata": {
      "needs_background": "light"
     },
     "output_type": "display_data"
    }
   ],
   "source": [
    "num_features = len(df_train.columns)\n",
    "fig, axs = plt.subplots(num_features, 1, figsize=(8, 3 * num_features))\n",
    "\n",
    "# Iterar sobre as colunas e criar gráficos de barras\n",
    "for i, feature in enumerate(df_train.columns):\n",
    "    contagem_valores = df_train[feature].value_counts()\n",
    "    axs[i].bar(contagem_valores.index, contagem_valores.values, color='skyblue')\n",
    "    axs[i].set_title(f'Contagem de valores na {feature}')\n",
    "    axs[i].set_xlabel('Valores')\n",
    "    axs[i].set_ylabel('Contagem')\n",
    "\n",
    "plt.tight_layout()\n",
    "plt.show()"
   ]
  },
  {
   "cell_type": "markdown",
   "metadata": {},
   "source": [
    "#### Matriz de dispersão "
   ]
  },
  {
   "cell_type": "code",
   "execution_count": 11,
   "metadata": {},
   "outputs": [
    {
     "data": {
      "text/plain": [
       "\" # Subconjunto do DataFrame contendo apenas as colunas mencionadas\\nselected_columns = ['Id', 'quartos', 'suites', 'vagas', 'area_util', 'area_extra', 'churrasqueira', 'estacionamento', 'piscina', 'playground', 'quadra', 's_festas', 's_jogos', 's_ginastica', 'sauna', 'vista_mar', 'preco']\\ndf_subset = df_train[selected_columns]\\n\\nsns.pairplot(df_subset)\\nplt.show() \""
      ]
     },
     "execution_count": 11,
     "metadata": {},
     "output_type": "execute_result"
    }
   ],
   "source": [
    "''' # Subconjunto do DataFrame contendo apenas as colunas mencionadas\n",
    "selected_columns = ['Id', 'quartos', 'suites', 'vagas', 'area_util', 'area_extra', 'churrasqueira', 'estacionamento', 'piscina', 'playground', 'quadra', 's_festas', 's_jogos', 's_ginastica', 'sauna', 'vista_mar', 'preco']\n",
    "df_subset = df_train[selected_columns]\n",
    "\n",
    "sns.pairplot(df_subset)\n",
    "plt.show() '''"
   ]
  },
  {
   "cell_type": "markdown",
   "metadata": {},
   "source": [
    "## Pré-processamento de Dados"
   ]
  },
  {
   "cell_type": "markdown",
   "metadata": {},
   "source": [
    "### Remoção dos Outliers\n"
   ]
  },
  {
   "cell_type": "code",
   "execution_count": 12,
   "metadata": {},
   "outputs": [
    {
     "data": {
      "image/png": "[encoded data removed]",
      "text/plain": [
       "<Figure size 720x432 with 1 Axes>"
      ]
     },
     "metadata": {
      "needs_background": "light"
     },
     "output_type": "display_data"
    }
   ],
   "source": [
    "# Grafico do target\n",
    "plt.figure(figsize=(10, 6))\n",
    "plt.scatter(range(len(df_train)), df_train['preco'], color='b', alpha=0.7)\n",
    "plt.title('Grafico de Preco até 500000\"')\n",
    "plt.xlabel('Índice')\n",
    "plt.ylabel('Preco')\n",
    "plt.grid(True)\n",
    "\n",
    "plt.ticklabel_format(axis='y', style='plain')\n",
    "plt.ylim(bottom=0)\n",
    "\n",
    "plt.show()"
   ]
  },
  {
   "cell_type": "code",
   "execution_count": 13,
   "metadata": {},
   "outputs": [
    {
     "data": {
      "image/png": "[encoded data removed]",
      "text/plain": [
       "<Figure size 720x432 with 1 Axes>"
      ]
     },
     "metadata": {
      "needs_background": "light"
     },
     "output_type": "display_data"
    }
   ],
   "source": [
    "# Grafico do target\n",
    "plt.figure(figsize=(10, 6))\n",
    "plt.scatter(range(len(df_train)), df_train['preco'], color='b', alpha=0.7)\n",
    "plt.title('Grafico de Preco até 10000000')\n",
    "plt.xlabel('Índice')\n",
    "plt.ylabel('Preco')\n",
    "plt.grid(True)\n",
    "\n",
    "plt.ticklabel_format(axis='y', style='plain')\n",
    "\n",
    "plt.ylim(top=10000000)\n",
    "plt.ylim(bottom=0)\n",
    "\n",
    "plt.show()"
   ]
  },
  {
   "cell_type": "code",
   "execution_count": 14,
   "metadata": {},
   "outputs": [
    {
     "data": {
      "image/png": "[encoded data removed]",
      "text/plain": [
       "<Figure size 720x432 with 1 Axes>"
      ]
     },
     "metadata": {
      "needs_background": "light"
     },
     "output_type": "display_data"
    }
   ],
   "source": [
    "# Grafico do target\n",
    "plt.figure(figsize=(10, 6))\n",
    "plt.scatter(range(len(df_train)), df_train['preco'], color='b', alpha=0.7)\n",
    "plt.title('Grafico de Preco até 500000')\n",
    "plt.xlabel('Índice')\n",
    "plt.ylabel('Preco')\n",
    "plt.grid(True)\n",
    "\n",
    "plt.ticklabel_format(axis='y', style='plain')\n",
    "\n",
    "plt.ylim(top=500000)\n",
    "plt.ylim(bottom=0)\n",
    "\n",
    "plt.show()"
   ]
  },
  {
   "cell_type": "code",
   "execution_count": 15,
   "metadata": {},
   "outputs": [],
   "source": [
    "df_train = df_train[(df_train['preco']>= 50000) & (df_train['preco']<= 5000000)]\n"
   ]
  },
  {
   "cell_type": "markdown",
   "metadata": {},
   "source": [
    "### Codificação de variáveis categóricas\n",
    "\n",
    "- Features Categóricas\n"
   ]
  },
  {
   "cell_type": "code",
   "execution_count": 16,
   "metadata": {},
   "outputs": [
    {
     "data": {
      "text/plain": [
       "\" ['tipo', 'bairro', 'tipo_vendedor', 'diferenciais'] \""
      ]
     },
     "execution_count": 16,
     "metadata": {},
     "output_type": "execute_result"
    }
   ],
   "source": [
    "\n",
    "''' ['tipo', 'bairro', 'tipo_vendedor', 'diferenciais'] '''"
   ]
  },
  {
   "cell_type": "markdown",
   "metadata": {},
   "source": [
    "- Label Encoding: Estabelecendo ordem nominal"
   ]
  },
  {
   "cell_type": "code",
   "execution_count": 17,
   "metadata": {},
   "outputs": [
    {
     "name": "stderr",
     "output_type": "stream",
     "text": [
      "C:\\Users\\amand\\AppData\\Local\\Temp\\ipykernel_28784\\1553746050.py:5: SettingWithCopyWarning: \n",
      "A value is trying to be set on a copy of a slice from a DataFrame.\n",
      "Try using .loc[row_indexer,col_indexer] = value instead\n",
      "\n",
      "See the caveats in the documentation: https://pandas.pydata.org/pandas-docs/stable/user_guide/indexing.html#returning-a-view-versus-a-copy\n",
      "  df_train['tipo'] = df_train['tipo'].map(ordem_desejada)\n",
      "C:\\Users\\amand\\AppData\\Local\\Temp\\ipykernel_28784\\1553746050.py:7: SettingWithCopyWarning: \n",
      "A value is trying to be set on a copy of a slice from a DataFrame.\n",
      "Try using .loc[row_indexer,col_indexer] = value instead\n",
      "\n",
      "See the caveats in the documentation: https://pandas.pydata.org/pandas-docs/stable/user_guide/indexing.html#returning-a-view-versus-a-copy\n",
      "  df_train['tipo'] = label_encoder.fit_transform(df_train['tipo'])\n"
     ]
    }
   ],
   "source": [
    "# Feature tipo\n",
    "\n",
    "ordem_desejada = {'Quiitinet': 0, 'Loft': 1, 'Apartamento': 2, 'Casa': 3} #Ordem de valor estabelecido na maioria dos casos\n",
    "\n",
    "df_train['tipo'] = df_train['tipo'].map(ordem_desejada)\n",
    "label_encoder = LabelEncoder()\n",
    "df_train['tipo'] = label_encoder.fit_transform(df_train['tipo'])\n",
    "\n",
    "df_test['tipo'] = df_test['tipo'].map(ordem_desejada)\n",
    "label_encoder = LabelEncoder()\n",
    "df_test['tipo'] = label_encoder.fit_transform(df_test['tipo'])"
   ]
  },
  {
   "cell_type": "markdown",
   "metadata": {},
   "source": []
  },
  {
   "cell_type": "markdown",
   "metadata": {},
   "source": [
    "- Label Binarizer: Converte rótulos em inteiros, não tendo ordem nominal entre os valores da feature"
   ]
  },
  {
   "cell_type": "code",
   "execution_count": 18,
   "metadata": {},
   "outputs": [],
   "source": [
    "def binarizador(colunas_a_binarizar, dataframe):\n",
    "    binarizador = LabelBinarizer()\n",
    "    for feature in colunas_a_binarizar:\n",
    "        dataframe[feature] = binarizador.fit_transform(dataframe[feature])\n",
    "\n",
    "    return dataframe"
   ]
  },
  {
   "cell_type": "code",
   "execution_count": 19,
   "metadata": {},
   "outputs": [
    {
     "name": "stderr",
     "output_type": "stream",
     "text": [
      "C:\\Users\\amand\\AppData\\Local\\Temp\\ipykernel_28784\\2220310712.py:4: SettingWithCopyWarning: \n",
      "A value is trying to be set on a copy of a slice from a DataFrame.\n",
      "Try using .loc[row_indexer,col_indexer] = value instead\n",
      "\n",
      "See the caveats in the documentation: https://pandas.pydata.org/pandas-docs/stable/user_guide/indexing.html#returning-a-view-versus-a-copy\n",
      "  dataframe[feature] = binarizador.fit_transform(dataframe[feature])\n"
     ]
    }
   ],
   "source": [
    "# tipo_vendedor -> #Imobiliário, Pessoa Física\n",
    "\n",
    "colunas_a_binarizar = ['tipo_vendedor']\n",
    "\n",
    "df_train = binarizador(colunas_a_binarizar, df_train)\n",
    "df_test = binarizador(colunas_a_binarizar, df_test)"
   ]
  },
  {
   "cell_type": "markdown",
   "metadata": {},
   "source": [
    "- Codificando Diferenciais"
   ]
  },
  {
   "cell_type": "code",
   "execution_count": 20,
   "metadata": {},
   "outputs": [
    {
     "name": "stderr",
     "output_type": "stream",
     "text": [
      "C:\\Users\\amand\\AppData\\Local\\Temp\\ipykernel_28784\\144469197.py:41: SettingWithCopyWarning: \n",
      "A value is trying to be set on a copy of a slice from a DataFrame.\n",
      "Try using .loc[row_indexer,col_indexer] = value instead\n",
      "\n",
      "See the caveats in the documentation: https://pandas.pydata.org/pandas-docs/stable/user_guide/indexing.html#returning-a-view-versus-a-copy\n",
      "  df_train['tem_'+item] = df_train['diferenciais'].str.contains(item, case=False, regex=False).map({True: 1, False: 0})\n",
      "C:\\Users\\amand\\AppData\\Local\\Temp\\ipykernel_28784\\144469197.py:41: SettingWithCopyWarning: \n",
      "A value is trying to be set on a copy of a slice from a DataFrame.\n",
      "Try using .loc[row_indexer,col_indexer] = value instead\n",
      "\n",
      "See the caveats in the documentation: https://pandas.pydata.org/pandas-docs/stable/user_guide/indexing.html#returning-a-view-versus-a-copy\n",
      "  df_train['tem_'+item] = df_train['diferenciais'].str.contains(item, case=False, regex=False).map({True: 1, False: 0})\n",
      "C:\\Users\\amand\\AppData\\Local\\Temp\\ipykernel_28784\\144469197.py:41: SettingWithCopyWarning: \n",
      "A value is trying to be set on a copy of a slice from a DataFrame.\n",
      "Try using .loc[row_indexer,col_indexer] = value instead\n",
      "\n",
      "See the caveats in the documentation: https://pandas.pydata.org/pandas-docs/stable/user_guide/indexing.html#returning-a-view-versus-a-copy\n",
      "  df_train['tem_'+item] = df_train['diferenciais'].str.contains(item, case=False, regex=False).map({True: 1, False: 0})\n",
      "C:\\Users\\amand\\AppData\\Local\\Temp\\ipykernel_28784\\144469197.py:41: SettingWithCopyWarning: \n",
      "A value is trying to be set on a copy of a slice from a DataFrame.\n",
      "Try using .loc[row_indexer,col_indexer] = value instead\n",
      "\n",
      "See the caveats in the documentation: https://pandas.pydata.org/pandas-docs/stable/user_guide/indexing.html#returning-a-view-versus-a-copy\n",
      "  df_train['tem_'+item] = df_train['diferenciais'].str.contains(item, case=False, regex=False).map({True: 1, False: 0})\n"
     ]
    },
    {
     "name": "stdout",
     "output_type": "stream",
     "text": [
      "piscina                      2596\n",
      "churrasqueira                1480\n",
      "nenhum                        983\n",
      "playground                    737\n",
      "salao de festas               645\n",
      "sauna                         450\n",
      "copa                          320\n",
      "estacionamento visitantes     144\n",
      "frente para o mar             126\n",
      "campo de futebol              108\n",
      "esquina                       101\n",
      "quadra poliesportiva           74\n",
      "sala de ginastica              64\n",
      "salao de jogos                 32\n",
      "children care                   6\n",
      "vestiario                       4\n",
      "hidromassagem                   3\n",
      "quadra de squash                1\n",
      "dtype: int64\n",
      "['playground', 'copa', 'campo de futebol', 'estacionamento visitantes', 'esquina']\n"
     ]
    },
    {
     "name": "stderr",
     "output_type": "stream",
     "text": [
      "C:\\Users\\amand\\AppData\\Local\\Temp\\ipykernel_28784\\144469197.py:41: SettingWithCopyWarning: \n",
      "A value is trying to be set on a copy of a slice from a DataFrame.\n",
      "Try using .loc[row_indexer,col_indexer] = value instead\n",
      "\n",
      "See the caveats in the documentation: https://pandas.pydata.org/pandas-docs/stable/user_guide/indexing.html#returning-a-view-versus-a-copy\n",
      "  df_train['tem_'+item] = df_train['diferenciais'].str.contains(item, case=False, regex=False).map({True: 1, False: 0})\n"
     ]
    }
   ],
   "source": [
    "# diferenciais\n",
    "\n",
    "#separar itens da coluna feature\n",
    "itens_separados = df_train['diferenciais'].str.split(' e |, ')\n",
    "todos_itens = [item for sublist in itens_separados.dropna() for item in sublist]\n",
    "\n",
    "# verificando frequencia de cada item\n",
    "contagem_item = pd.Series(todos_itens).value_counts()\n",
    "\n",
    "print(contagem_item)\n",
    "\n",
    "\n",
    "#criando uma lista com cada diferencial que tenha\n",
    "itens_unicos = list(set(todos_itens))\n",
    "\n",
    "\n",
    "#removendo diferenciais com pouca frequencia\n",
    "itens_unicos.remove('quadra de squash')\n",
    "itens_unicos.remove(\"hidromassagem\")\n",
    "itens_unicos.remove(\"vestiario\")\n",
    "itens_unicos.remove(\"children care\")\n",
    "itens_unicos.remove(\"salao de jogos\")\n",
    "itens_unicos.remove(\"sala de ginastica\")\n",
    "itens_unicos.remove(\"quadra poliesportiva\")\n",
    "itens_unicos.remove(\"nenhum\")\n",
    "\n",
    "\n",
    "#removendo diferenciais citados em features especificas\n",
    "\n",
    "itens_unicos.remove('churrasqueira')\n",
    "itens_unicos.remove('frente para o mar')\n",
    "itens_unicos.remove('sauna')\n",
    "itens_unicos.remove('salao de festas')\n",
    "itens_unicos.remove('piscina')\n",
    "\n",
    "print(itens_unicos)\n",
    "\n",
    "# codificando cada item\n",
    "\n",
    "for item in itens_unicos:\n",
    "    df_train['tem_'+item] = df_train['diferenciais'].str.contains(item, case=False, regex=False).map({True: 1, False: 0})\n",
    "\n",
    "df_train = df_train.drop('diferenciais', axis=1)\n",
    "\n",
    "for item in itens_unicos:\n",
    "    df_test['tem_'+item] = df_test['diferenciais'].str.contains(item, case=False, regex=False).map({True: 1, False: 0})\n",
    "\n",
    "df_test = df_test.drop('diferenciais', axis=1)\n"
   ]
  },
  {
   "cell_type": "markdown",
   "metadata": {},
   "source": [
    "### Dropando Features"
   ]
  },
  {
   "cell_type": "code",
   "execution_count": 21,
   "metadata": {},
   "outputs": [
    {
     "data": {
      "text/plain": [
       "Index(['Id', 'tipo', 'bairro', 'tipo_vendedor', 'quartos', 'suites', 'vagas',\n",
       "       'area_util', 'area_extra', 'churrasqueira', 'estacionamento', 'piscina',\n",
       "       'playground', 'quadra', 's_festas', 's_jogos', 's_ginastica', 'sauna',\n",
       "       'vista_mar', 'preco', 'tem_playground', 'tem_copa',\n",
       "       'tem_campo de futebol', 'tem_estacionamento visitantes', 'tem_esquina'],\n",
       "      dtype='object')"
      ]
     },
     "execution_count": 21,
     "metadata": {},
     "output_type": "execute_result"
    }
   ],
   "source": [
    "df_train.columns"
   ]
  },
  {
   "cell_type": "code",
   "execution_count": 22,
   "metadata": {},
   "outputs": [
    {
     "data": {
      "text/plain": [
       "0       2\n",
       "1       1\n",
       "2       1\n",
       "3       1\n",
       "4       1\n",
       "       ..\n",
       "4678    1\n",
       "4679    1\n",
       "4680    1\n",
       "4681    1\n",
       "4682    1\n",
       "Name: tipo, Length: 4670, dtype: int64"
      ]
     },
     "execution_count": 22,
     "metadata": {},
     "output_type": "execute_result"
    }
   ],
   "source": [
    "df_train['tipo']"
   ]
  },
  {
   "cell_type": "markdown",
   "metadata": {},
   "source": [
    "- bairro será removido por ser uma feature categorica não codificada"
   ]
  },
  {
   "cell_type": "code",
   "execution_count": 23,
   "metadata": {},
   "outputs": [],
   "source": [
    "df_train = df_train.drop('bairro', axis=1)\n",
    "\n",
    "df_test = df_test.drop('bairro', axis=1)"
   ]
  },
  {
   "cell_type": "markdown",
   "metadata": {},
   "source": [
    "## Modelagem"
   ]
  },
  {
   "cell_type": "markdown",
   "metadata": {},
   "source": [
    "### Seleção de Features"
   ]
  },
  {
   "cell_type": "markdown",
   "metadata": {},
   "source": [
    "#### Removemos as features que não são de interesse ou não parecem ter muita correlação pelas análises"
   ]
  },
  {
   "cell_type": "code",
   "execution_count": 24,
   "metadata": {},
   "outputs": [
    {
     "data": {
      "text/plain": [
       "Index(['Id', 'tipo', 'tipo_vendedor', 'quartos', 'suites', 'vagas',\n",
       "       'area_util', 'area_extra', 'churrasqueira', 'estacionamento', 'piscina',\n",
       "       'playground', 'quadra', 's_festas', 's_jogos', 's_ginastica', 'sauna',\n",
       "       'vista_mar', 'preco', 'tem_playground', 'tem_copa',\n",
       "       'tem_campo de futebol', 'tem_estacionamento visitantes', 'tem_esquina'],\n",
       "      dtype='object')"
      ]
     },
     "execution_count": 24,
     "metadata": {},
     "output_type": "execute_result"
    }
   ],
   "source": [
    "df_train.columns"
   ]
  },
  {
   "cell_type": "code",
   "execution_count": 25,
   "metadata": {},
   "outputs": [
    {
     "data": {
      "text/plain": [
       "['tipo',\n",
       " 'tipo_vendedor',\n",
       " 'quartos',\n",
       " 'suites',\n",
       " 'vagas',\n",
       " 'area_util',\n",
       " 'area_extra',\n",
       " 'churrasqueira',\n",
       " 'estacionamento',\n",
       " 'piscina',\n",
       " 'playground',\n",
       " 'quadra',\n",
       " 's_festas',\n",
       " 's_jogos',\n",
       " 's_ginastica',\n",
       " 'sauna',\n",
       " 'vista_mar',\n",
       " 'tem_playground',\n",
       " 'tem_copa',\n",
       " 'tem_campo de futebol',\n",
       " 'tem_estacionamento visitantes',\n",
       " 'tem_esquina']"
      ]
     },
     "execution_count": 25,
     "metadata": {},
     "output_type": "execute_result"
    }
   ],
   "source": [
    "#colunas selecionas\n",
    "\n",
    "colunas_selecionadas = df_train.columns.tolist()\n",
    "colunas_selecionadas.remove('Id')  #removida pois é o id\n",
    "colunas_selecionadas.remove('preco') # removida pois é o target\n",
    "\n",
    "\n",
    "colunas_selecionadas"
   ]
  },
  {
   "cell_type": "markdown",
   "metadata": {},
   "source": [
    "### Escolha do Modelo"
   ]
  },
  {
   "cell_type": "markdown",
   "metadata": {},
   "source": [
    "#### Definindo conjuntos de teste e treino"
   ]
  },
  {
   "cell_type": "code",
   "execution_count": 26,
   "metadata": {},
   "outputs": [],
   "source": [
    "# selecionando colunas\n",
    "\n",
    "X_train = df_train[colunas_selecionadas].iloc[:,:].values #pega todas as colunas selecionadas\n",
    "y_train = df_train[\"preco\"].iloc[:,].values #pega somente a coluna preco\n",
    "\n",
    "# conjunto de teste (5000) sem target\n",
    "\n",
    "X_test_output = df_test[colunas_selecionadas].iloc[:,:].values"
   ]
  },
  {
   "cell_type": "code",
   "execution_count": 27,
   "metadata": {},
   "outputs": [],
   "source": [
    "X_train, X_test, y_train, y_test = train_test_split(\n",
    "    X_train, \n",
    "    y_train.ravel(),\n",
    "    train_size=0.8,\n",
    "    shuffle=True,\n",
    "    random_state=777\n",
    "    )"
   ]
  },
  {
   "cell_type": "markdown",
   "metadata": {},
   "source": [
    "- Escrevendo dados padronizados"
   ]
  },
  {
   "cell_type": "code",
   "execution_count": 28,
   "metadata": {},
   "outputs": [],
   "source": [
    "''' scaler = StandardScaler()\n",
    "\n",
    "df_train_standard = pd.DataFrame(scaler.fit_transform(df_train[colunas_selecionadas+[\"preco\"]]), columns=colunas_selecionadas+[\"preco\"])\n",
    "\n",
    "X_train_standard = df_train_standard.iloc[:,df_train_standard.columns!='preco'].values #pega todas as colunas selecionadas\n",
    "y_train_standard = df_train_standard[\"preco\"].iloc[:,].values #pega somente a coluna preco\n",
    "\n",
    "# conjunto de teste (5000) sem target\n",
    "\n",
    "df_test_standard = pd.DataFrame(scaler.fit_transform(df_test[colunas_selecionadas]), columns=colunas_selecionadas)\n",
    "\n",
    "X_test_output_standard = df_test_standard[colunas_selecionadas].iloc[:,:].values '''\n",
    "\n",
    "\n",
    "scaler = StandardScaler()\n",
    "scaler.fit(X_train)\n",
    "\n",
    "X_train_standard = scaler.transform(X_train)\n",
    "X_test_standard = scaler.transform(X_test)"
   ]
  },
  {
   "cell_type": "code",
   "execution_count": 29,
   "metadata": {},
   "outputs": [
    {
     "ename": "NameError",
     "evalue": "name 'y_train_standard' is not defined",
     "output_type": "error",
     "traceback": [
      "\u001b[1;31m---------------------------------------------------------------------------\u001b[0m",
      "\u001b[1;31mNameError\u001b[0m                                 Traceback (most recent call last)",
      "\u001b[1;32mc:\\Users\\amand\\OneDrive\\Documentos\\UFRJ\\Periodos\\Período 12\\Introd. a aprendizado de máquina\\Trabalho 2 - Regressor\\modelo_regressor.ipynb Cell 63\u001b[0m line \u001b[0;36m<cell line: 1>\u001b[1;34m()\u001b[0m\n\u001b[0;32m      <a href='vscode-notebook-cell:/c%3A/Users/amand/OneDrive/Documentos/UFRJ/Periodos/Per%C3%ADodo%2012/Introd.%20a%20aprendizado%20de%20m%C3%A1quina/Trabalho%202%20-%20Regressor/modelo_regressor.ipynb#Y112sZmlsZQ%3D%3D?line=0'>1</a>\u001b[0m X_train_standard, X_test_standard, y_train_standard, y_test_standard \u001b[39m=\u001b[39m train_test_split(\n\u001b[0;32m      <a href='vscode-notebook-cell:/c%3A/Users/amand/OneDrive/Documentos/UFRJ/Periodos/Per%C3%ADodo%2012/Introd.%20a%20aprendizado%20de%20m%C3%A1quina/Trabalho%202%20-%20Regressor/modelo_regressor.ipynb#Y112sZmlsZQ%3D%3D?line=1'>2</a>\u001b[0m     X_train_standard, \n\u001b[1;32m----> <a href='vscode-notebook-cell:/c%3A/Users/amand/OneDrive/Documentos/UFRJ/Periodos/Per%C3%ADodo%2012/Introd.%20a%20aprendizado%20de%20m%C3%A1quina/Trabalho%202%20-%20Regressor/modelo_regressor.ipynb#Y112sZmlsZQ%3D%3D?line=2'>3</a>\u001b[0m     y_train_standard\u001b[39m.\u001b[39mravel(),\n\u001b[0;32m      <a href='vscode-notebook-cell:/c%3A/Users/amand/OneDrive/Documentos/UFRJ/Periodos/Per%C3%ADodo%2012/Introd.%20a%20aprendizado%20de%20m%C3%A1quina/Trabalho%202%20-%20Regressor/modelo_regressor.ipynb#Y112sZmlsZQ%3D%3D?line=3'>4</a>\u001b[0m     train_size\u001b[39m=\u001b[39m\u001b[39m0.8\u001b[39m,\n\u001b[0;32m      <a href='vscode-notebook-cell:/c%3A/Users/amand/OneDrive/Documentos/UFRJ/Periodos/Per%C3%ADodo%2012/Introd.%20a%20aprendizado%20de%20m%C3%A1quina/Trabalho%202%20-%20Regressor/modelo_regressor.ipynb#Y112sZmlsZQ%3D%3D?line=4'>5</a>\u001b[0m     shuffle\u001b[39m=\u001b[39m\u001b[39mTrue\u001b[39;00m,\n\u001b[0;32m      <a href='vscode-notebook-cell:/c%3A/Users/amand/OneDrive/Documentos/UFRJ/Periodos/Per%C3%ADodo%2012/Introd.%20a%20aprendizado%20de%20m%C3%A1quina/Trabalho%202%20-%20Regressor/modelo_regressor.ipynb#Y112sZmlsZQ%3D%3D?line=5'>6</a>\u001b[0m     random_state\u001b[39m=\u001b[39m\u001b[39m777\u001b[39m\n\u001b[0;32m      <a href='vscode-notebook-cell:/c%3A/Users/amand/OneDrive/Documentos/UFRJ/Periodos/Per%C3%ADodo%2012/Introd.%20a%20aprendizado%20de%20m%C3%A1quina/Trabalho%202%20-%20Regressor/modelo_regressor.ipynb#Y112sZmlsZQ%3D%3D?line=6'>7</a>\u001b[0m     )\n",
      "\u001b[1;31mNameError\u001b[0m: name 'y_train_standard' is not defined"
     ]
    }
   ],
   "source": [
    "X_train_standard, X_test_standard, y_train_standard, y_test_standard = train_test_split(\n",
    "    X_train_standard, \n",
    "    y_train_standard.ravel(),\n",
    "    train_size=0.8,\n",
    "    shuffle=True,\n",
    "    random_state=777\n",
    "    )"
   ]
  },
  {
   "cell_type": "code",
   "execution_count": null,
   "metadata": {},
   "outputs": [],
   "source": [
    "# Função para submeter para o Kaggle\n",
    "\n",
    "def submissao_kaggle(df_test, y_predict_output, nome_file):\n",
    "    \n",
    "    id_solicitante = df_test.loc[:,df_test.columns=='Id'].values\n",
    "\n",
    "    id_solicitante = id_solicitante.ravel()\n",
    "    y_predict_output =  y_predict_output.ravel()\n",
    "\n",
    "    dict_input = {'Id': id_solicitante, 'preco': y_predict_output}\n",
    "    input_classificador = pd.DataFrame(data = dict_input)\n",
    "\n",
    "    input_classificador.to_csv(nome_file, index = False)"
   ]
  },
  {
   "cell_type": "markdown",
   "metadata": {},
   "source": [
    "#### RMSPE"
   ]
  },
  {
   "cell_type": "code",
   "execution_count": null,
   "metadata": {},
   "outputs": [],
   "source": [
    "def rmspe(y_true, y_predict):\n",
    "\n",
    "    assert len(y_true) == len(y_predict), \"Os arrays devem ter o mesmo comprimento.\"\n",
    "    \n",
    "    errors = (y_true - y_predict) / y_true\n",
    "    squared_errors = np.square(errors)\n",
    "    mean_squared_errors = np.mean(squared_errors)\n",
    "    rmspe = np.sqrt(mean_squared_errors)\n",
    "    \n",
    "    return rmspe"
   ]
  },
  {
   "cell_type": "markdown",
   "metadata": {},
   "source": [
    "#### Linear Regression"
   ]
  },
  {
   "cell_type": "code",
   "execution_count": null,
   "metadata": {},
   "outputs": [],
   "source": [
    "def regressorLinear(X_train, y_train, X_test, y_test):\n",
    "\n",
    "    model = LinearRegression()\n",
    "    model.fit(X_train,y_train)\n",
    "    y_predict  = model.predict(X_test)\n",
    "\n",
    "    rmspe_score = rmspe(y_test, y_predict)\n",
    "\n",
    "    return [y_predict, rmspe_score ]"
   ]
  },
  {
   "cell_type": "markdown",
   "metadata": {},
   "source": [
    "- Treinar o modelo Regressor Linear com o conjunto de treino sem utilizar medidas padronizadas\n"
   ]
  },
  {
   "cell_type": "code",
   "execution_count": null,
   "metadata": {},
   "outputs": [],
   "source": [
    "result = regressorLinear(X_train, y_train, X_test, y_test)\n",
    "\n",
    "print(\"RMSPE: \", result[1])"
   ]
  },
  {
   "cell_type": "markdown",
   "metadata": {},
   "source": [
    "- Predição para os dados de teste"
   ]
  },
  {
   "cell_type": "code",
   "execution_count": null,
   "metadata": {},
   "outputs": [],
   "source": [
    "model = LinearRegression()\n",
    "model.fit(X_train,y_train)\n",
    "y_predict_output  = model.predict(X_test_output)\n",
    "submissao_kaggle(df_test, y_predict_output, \"input_regressor_linear_sem_padronizacao.csv\")"
   ]
  },
  {
   "cell_type": "markdown",
   "metadata": {},
   "source": [
    "- Treinar o modelo de Regressão Linear com o conjunto de treino utilizando medidas padronizadas"
   ]
  },
  {
   "cell_type": "code",
   "execution_count": null,
   "metadata": {},
   "outputs": [],
   "source": [
    "result = regressorLinear(X_train_standard, y_train_standard, X_test_standard, y_test_standard)\n",
    "\n",
    "print(\"RMSPE: \", result[1])"
   ]
  },
  {
   "cell_type": "markdown",
   "metadata": {},
   "source": [
    "- Predição para os dados de teste"
   ]
  },
  {
   "cell_type": "code",
   "execution_count": null,
   "metadata": {},
   "outputs": [],
   "source": [
    "model = LinearRegression()\n",
    "model.fit(X_train,y_train)\n",
    "y_predict_output  = model.predict(X_test_output)\n",
    "submissao_kaggle(df_test, y_predict_output, \"input_regressor_linear_com_padronizacao.csv\")"
   ]
  },
  {
   "cell_type": "markdown",
   "metadata": {},
   "source": [
    "#### Polinomial Regression\n",
    "\n"
   ]
  },
  {
   "cell_type": "markdown",
   "metadata": {},
   "source": [
    "##### Treinando modelo"
   ]
  },
  {
   "cell_type": "code",
   "execution_count": null,
   "metadata": {},
   "outputs": [],
   "source": [
    "def regressorPolinomial(X_train, y_train, X_test, y_test):\n",
    "    results = []\n",
    "    for g in range(1, 4):\n",
    "\n",
    "        model = PolynomialFeatures(degree=g)\n",
    "\n",
    "        model = model.fit(X_train)\n",
    "        X_train_poly = model.transform(X_train)\n",
    "        X_test_poly = model.transform(X_test)\n",
    "\n",
    "        regressor_linear = LinearRegression()\n",
    "\n",
    "        regressor_linear = regressor_linear.fit(X_train_poly,y_train)\n",
    "\n",
    "        y_predict_train = regressor_linear.predict(X_train_poly)\n",
    "        y_predict_test  = regressor_linear.predict(X_test_poly)\n",
    "\n",
    "\n",
    "        rmspe_score = rmspe(y_test, y_predict_test)\n",
    "\n",
    "        result = [g, rmspe_score]\n",
    "\n",
    "        results.append(result)\n",
    "\n",
    "    return pd.DataFrame(results, columns=[\"degree\", \"rmspe_score\"])\n",
    "        \n",
    "        "
   ]
  },
  {
   "cell_type": "markdown",
   "metadata": {},
   "source": [
    "- Treinar o modelo de regressão com o conjunto de treino sem utilizar medidas padronizadas\n"
   ]
  },
  {
   "cell_type": "code",
   "execution_count": null,
   "metadata": {},
   "outputs": [],
   "source": [
    "result = regressorPolinomial(X_train, y_train, X_test, y_test)"
   ]
  },
  {
   "cell_type": "markdown",
   "metadata": {},
   "source": [
    "- Decidindo melhor degree"
   ]
  },
  {
   "cell_type": "code",
   "execution_count": null,
   "metadata": {},
   "outputs": [],
   "source": [
    "result_sort = result[0].sort_values(by='rmspe_score', ascending=True)\n",
    "result_sort"
   ]
  },
  {
   "cell_type": "markdown",
   "metadata": {},
   "source": [
    "- Predição para os dados de teste"
   ]
  },
  {
   "cell_type": "code",
   "execution_count": null,
   "metadata": {},
   "outputs": [],
   "source": [
    "model = PolynomialFeatures(degree=g)\n",
    "\n",
    "model = model.fit(X_train)\n",
    "X_train_poly = model.transform(X_train)\n",
    "X_test_poly = model.transform(X_test)\n",
    "\n",
    "regressor_linear = LinearRegression()\n",
    "\n",
    "regressor_linear = regressor_linear.fit(X_train_poly,y_train)\n",
    "\n",
    "\n",
    "X_test_output_poly = model.transform(X_test_output)\n",
    "y_predict_output  = model.predict(X_test_output_poly)\n",
    "submissao_kaggle(df_test, y_predict_output, \"input_regressor_polinomial_sem_padronizacao.csv\")"
   ]
  },
  {
   "cell_type": "markdown",
   "metadata": {},
   "source": [
    "#### KNN"
   ]
  },
  {
   "cell_type": "markdown",
   "metadata": {},
   "source": [
    "##### Treinando modelo"
   ]
  },
  {
   "cell_type": "markdown",
   "metadata": {},
   "source": [
    "- Parâmetros considerados\n",
    "    - n_neighbors:\n",
    "        - O número de vizinhos.\n",
    "    - weights (Função peso usada na predição): \n",
    "        - Se “uniform”, então os pesos são uniformes.\n",
    "        - Se “distance”, então os pesos são inversosa sua distância. "
   ]
  },
  {
   "cell_type": "code",
   "execution_count": null,
   "metadata": {},
   "outputs": [],
   "source": [
    "def regressorKNN(X_train, y_train, X_test, y_test):\n",
    "    results = []\n",
    "    for k in range(1, 50):\n",
    "\n",
    "        model = KNeighborsRegressor(n_neighbors=k,weights='uniform')\n",
    "        model.fit(X_train,y_train)\n",
    "        y_predict  = model.predict(X_test)\n",
    "\n",
    "        rmspe_score = rmspe(y_test, y_predict)\n",
    "\n",
    "        result_uniform = [k, \"uniform\", rmspe_score]\n",
    "\n",
    "        results.append(result_uniform)\n",
    "\n",
    "        model = KNeighborsRegressor(n_neighbors=k,weights='distance')\n",
    "        model.fit(X_train,y_train)\n",
    "        y_predict  = model.predict(X_test)\n",
    "\n",
    "        rmspe_score = rmspe(y_test, y_predict)\n",
    "\n",
    "        result_distance = [k, \"distance\", rmspe_score]\n",
    "\n",
    "        results.append(result_distance)\n",
    "\n",
    "    return pd.DataFrame(results, columns=[\"n_neighbors\", \"weights\", \"rmspe_score\"])\n",
    "        \n",
    "        "
   ]
  },
  {
   "cell_type": "markdown",
   "metadata": {},
   "source": [
    "- Treinar o modelo KNN com o conjunto de treino sem utilizar medidas padronizadas\n"
   ]
  },
  {
   "cell_type": "code",
   "execution_count": null,
   "metadata": {},
   "outputs": [],
   "source": [
    "result = regressorKNN(X_train, y_train, X_test, y_test)"
   ]
  },
  {
   "cell_type": "markdown",
   "metadata": {},
   "source": [
    "- Decidindo melhor n_neighbors e melhor weights"
   ]
  },
  {
   "cell_type": "code",
   "execution_count": null,
   "metadata": {},
   "outputs": [],
   "source": [
    "result_sort = result[0].sort_values(by='rmspe_score', ascending=True)\n",
    "result_sort"
   ]
  },
  {
   "cell_type": "markdown",
   "metadata": {},
   "source": [
    "- Predição para os dados de teste"
   ]
  },
  {
   "cell_type": "code",
   "execution_count": null,
   "metadata": {},
   "outputs": [],
   "source": [
    "model = KNeighborsRegressor(n_neighbors=11,weights='distance')\n",
    "model.fit(X_train,y_train)\n",
    "y_predict_output  = model.predict(X_test_output)\n",
    "submissao_kaggle(df_test, y_predict_output, \"input_regressor_knn_sem_padronizacao.csv\")"
   ]
  },
  {
   "cell_type": "markdown",
   "metadata": {},
   "source": [
    "- Treinar o modelo KNN com o conjunto de treino utilizando medidas padronizadas"
   ]
  },
  {
   "cell_type": "code",
   "execution_count": null,
   "metadata": {},
   "outputs": [],
   "source": [
    "result = regressorKNN(X_train_standard, y_train_standard, X_test_standard, y_test_standard)"
   ]
  },
  {
   "cell_type": "markdown",
   "metadata": {},
   "source": [
    "- Decidindo melhor n_neighbors e melhor weights"
   ]
  },
  {
   "cell_type": "code",
   "execution_count": null,
   "metadata": {},
   "outputs": [],
   "source": [
    "result_sort = result[0].sort_values(by=\"rmspe_score\", ascending=True)\n",
    "result_sort"
   ]
  },
  {
   "cell_type": "markdown",
   "metadata": {},
   "source": [
    "- Predição para os dados de teste"
   ]
  },
  {
   "cell_type": "code",
   "execution_count": null,
   "metadata": {},
   "outputs": [],
   "source": [
    "model = KNeighborsRegressor(n_neighbors=13,weights='distance')\n",
    "model.fit(X_train_standard,y_train_standard)\n",
    "y_predict_output  = model.predict(X_test_output)\n",
    "submissao_kaggle(df_test, y_predict_output, \"input_regressor_knn_com_padronizacao.csv\")"
   ]
  },
  {
   "cell_type": "markdown",
   "metadata": {},
   "source": [
    "##### Random Forest"
   ]
  },
  {
   "cell_type": "markdown",
   "metadata": {},
   "source": [
    "##### Treinando modelo"
   ]
  },
  {
   "cell_type": "markdown",
   "metadata": {},
   "source": [
    "- Parâmetros considerados\n",
    "    - n_estimators:\n",
    "        - O número de árvores na floresta.\n",
    "    - max_features: \n",
    "        - Se “sqrt”, então max_features=sqrt(n_features).\n",
    "        - Se “log2”, então max_features=log2(n_features)"
   ]
  },
  {
   "cell_type": "code",
   "execution_count": null,
   "metadata": {},
   "outputs": [],
   "source": [
    "def regressorRandomForest(X_train, y_train, X_test, y_test):\n",
    "    results = []\n",
    "    for k in range(1, 50):\n",
    "\n",
    "        model = RandomForestRegressor(n_estimators=k,        max_features='sqrt',\n",
    "        oob_score=True,\n",
    "        max_depth=None,\n",
    "        random_state=123\n",
    "        )\n",
    "        model.fit(X_train,y_train)\n",
    "        y_predict  = model.predict(X_test)\n",
    "\n",
    "        rmspe_score = rmspe(y_test, y_predict)\n",
    "\n",
    "        result_sqrt = [k, \"sqrt\", rmspe_score]\n",
    "\n",
    "        results.append(result_sqrt)\n",
    "\n",
    "        model = RandomForestRegressor(n_estimators=k,        \n",
    "        max_features='log2',\n",
    "        oob_score=True,\n",
    "        max_depth=None,\n",
    "        random_state=123\n",
    "        )\n",
    "        model.fit(X_train,y_train)\n",
    "        y_predict  = model.predict(X_test)\n",
    "\n",
    "        rmspe_score = rmspe(y_test, y_predict)\n",
    "\n",
    "        result_log2 = [k, \"log2\", rmspe_score]\n",
    "\n",
    "        results.append(result_log2)\n",
    "\n",
    "    return [pd.DataFrame(results, columns=[\"n_estimators\", \"max_features\", \"rmspe_score\"]), y_predict]"
   ]
  },
  {
   "cell_type": "markdown",
   "metadata": {},
   "source": [
    "- Treinar o modelo Random Forest com o conjunto de treino sem utilizar medidas padronizadas"
   ]
  },
  {
   "cell_type": "code",
   "execution_count": null,
   "metadata": {},
   "outputs": [],
   "source": [
    "result = regressorRandomForest(X_train, y_train, X_test, y_test)"
   ]
  },
  {
   "cell_type": "markdown",
   "metadata": {},
   "source": [
    "- Decidindo melhor n_neighbors e melhor weights"
   ]
  },
  {
   "cell_type": "code",
   "execution_count": null,
   "metadata": {},
   "outputs": [],
   "source": [
    "result_sort = result[0].sort_values(by=\"rmspe_score\", ascending=True)\n",
    "result_sort"
   ]
  },
  {
   "cell_type": "markdown",
   "metadata": {},
   "source": [
    "- Predição para os dados de teste"
   ]
  },
  {
   "cell_type": "code",
   "execution_count": null,
   "metadata": {},
   "outputs": [],
   "source": [
    "model = RandomForestRegressor(n_estimators=27,        \n",
    "max_features='log2',\n",
    "oob_score=True,\n",
    "max_depth=None,\n",
    "random_state=123\n",
    ")\n",
    "model.fit(X_train,y_train)\n",
    "y_predict_output  = model.predict(X_test_output)\n",
    "\n",
    "submissao_kaggle(df_test, y_predict_output, \"input_regressor_randomforest_sem_padronizacao.csv\")"
   ]
  },
  {
   "cell_type": "markdown",
   "metadata": {},
   "source": [
    "- Treinar o modelo Random Forest com o conjunto de treino utilizando medidadas padronizadas"
   ]
  },
  {
   "cell_type": "code",
   "execution_count": null,
   "metadata": {},
   "outputs": [],
   "source": [
    "result = regressorRandomForest(X_train_standard, y_train_standard, X_test_standard, y_test_standard)"
   ]
  },
  {
   "cell_type": "markdown",
   "metadata": {},
   "source": [
    "- Decidindo melhor n_neighbors e melhor weights"
   ]
  },
  {
   "cell_type": "code",
   "execution_count": null,
   "metadata": {},
   "outputs": [],
   "source": [
    "result_sort = result[0].sort_values(by=\"rmspe_score\", ascending=True)\n",
    "result_sort"
   ]
  },
  {
   "cell_type": "markdown",
   "metadata": {},
   "source": [
    "- Predição para os dados de teste"
   ]
  },
  {
   "cell_type": "code",
   "execution_count": null,
   "metadata": {},
   "outputs": [],
   "source": [
    "model = RandomForestRegressor(n_estimators=36,        \n",
    "max_features='sqrt',\n",
    "oob_score=True,\n",
    "max_depth=None,\n",
    "random_state=123\n",
    ")\n",
    "model.fit(X_train_standard,y_train_standard)\n",
    "y_predict_output  = model.predict(X_test_output_standard)\n",
    "submissao_kaggle(df_test, y_predict_output, \"input_regressor_randomforest_com_padronizacao.csv\")"
   ]
  },
  {
   "cell_type": "markdown",
   "metadata": {},
   "source": [
    "## Conclusão"
   ]
  },
  {
   "cell_type": "markdown",
   "metadata": {},
   "source": [
    "- A partir dos dados de acurácia temos que o melhor modelo foi Random Forest, sendo este utilizado para dados não padronizados."
   ]
  }
 ],
 "metadata": {
  "kernelspec": {
   "display_name": "Python 3",
   "language": "python",
   "name": "python3"
  },
  "language_info": {
   "codemirror_mode": {
    "name": "ipython",
    "version": 3
   },
   "file_extension": ".py",
   "mimetype": "text/x-python",
   "name": "python",
   "nbconvert_exporter": "python",
   "pygments_lexer": "ipython3",
   "version": "3.8.10"
  }
 },
 "nbformat": 4,
 "nbformat_minor": 2
}
